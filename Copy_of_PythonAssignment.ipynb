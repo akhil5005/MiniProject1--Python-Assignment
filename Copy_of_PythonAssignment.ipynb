{
  "nbformat": 4,
  "nbformat_minor": 0,
  "metadata": {
    "colab": {
      "provenance": [],
      "authorship_tag": "ABX9TyOQdCLc+b4Yxsa2kvH+wLA4",
      "include_colab_link": true
    },
    "kernelspec": {
      "name": "python3",
      "display_name": "Python 3"
    },
    "language_info": {
      "name": "python"
    }
  },
  "cells": [
    {
      "cell_type": "markdown",
      "metadata": {
        "id": "view-in-github",
        "colab_type": "text"
      },
      "source": [
        "<a href=\"https://colab.research.google.com/github/akhil5005/MiniProject1--Python-Assignment/blob/main/Copy_of_PythonAssignment.ipynb\" target=\"_parent\"><img src=\"https://colab.research.google.com/assets/colab-badge.svg\" alt=\"Open In Colab\"/></a>"
      ]
    },
    {
      "cell_type": "code",
      "execution_count": null,
      "metadata": {
        "id": "6ZR5Nd15ndoA"
      },
      "outputs": [],
      "source": [
        "#Q1\n",
        "# #(i)\n",
        "# L = [11,12,13,14]\n",
        "# n = len(L)\n",
        "# for i in range(0,n):\n",
        "#   L[i] = L[i] + 50\n",
        "# print(L)\n",
        "\n",
        "# L = [11,12,13,14]\n",
        "# for i in range(0,n):\n",
        "#   L[i] = L[i] + 60\n",
        "# print(L)\n",
        "\n",
        "##(ii)\n",
        "# L = [11, 12, 13, 14]\n",
        "\n",
        "# if 11 in L:\n",
        "#     L.remove(11)\n",
        "\n",
        "# if 13 in L:\n",
        "#     L.remove(13)\n",
        "\n",
        "# print(L)\n",
        "\n",
        "# #(iii)\n",
        "# L= [11, 12, 13, 14]\n",
        "# L = sorted(L)\n",
        "# print(L)\n",
        "\n",
        "# #(iv)\n",
        "# L= [11, 12, 13, 14]\n",
        "# L = sorted(L,reverse = True)\n",
        "# print(L)\n",
        "\n",
        "##(v)\n",
        "# L = [11,12,13,14]\n",
        "# n = len(L)\n",
        "# k = -1\n",
        "# for i in range(0,n):\n",
        "#   if(L[i] == 13):\n",
        "#     k = i\n",
        "#     break\n",
        "# print(\"The index of element is-->\",k)\n",
        "\n",
        "##(vi)\n",
        "# L= [11, 12, 13, 14]\n",
        "# n = len(L)\n",
        "# print(\"The total number of elements are-->\",n)\n",
        "\n",
        "##(vii)\n",
        "# L = [11,12,13,14]\n",
        "# s = 0\n",
        "# for k in L:\n",
        "#   s = s + k\n",
        "# print(s)\n",
        "\n",
        "##(viii)\n",
        "# L = [11, 12, 13, 14, 15, 16, 17]\n",
        "\n",
        "# sum_odd = 0\n",
        "# for num in L:\n",
        "#     if num % 2 != 0:\n",
        "#         sum_odd += num\n",
        "\n",
        "# print(\"Sum of odd numbers:\", sum_odd)\n",
        "\n",
        "##(ix)\n",
        "# L = [11, 12, 13, 14, 15, 16, 17]\n",
        "\n",
        "# sum_even = 0\n",
        "# for num in L:\n",
        "#     if num % 2 == 0:\n",
        "#         sum_even += num\n",
        "\n",
        "# print(\"Sum of even numbers:\", sum_even)\n",
        "\n",
        "##(x)\n",
        "\n",
        "# L = [11, 12, 13, 14, 15, 16, 17]\n",
        "# sum_primes = 0\n",
        "\n",
        "# for num in L:\n",
        "#     if num > 1:\n",
        "#         is_prime = True\n",
        "#         for i in range(2, num):\n",
        "#             if num % i == 0:\n",
        "#                 is_prime = False\n",
        "#                 break\n",
        "#         if is_prime:\n",
        "#             sum_primes += num\n",
        "\n",
        "# print(\"Sum of prime numbers:\", sum_primes)\n",
        "\n",
        "##(xi)\n",
        "# L = [11, 12, 13, 14]\n",
        "# L.clear()\n",
        "# print(L)\n",
        "\n",
        "##(xii)\n",
        "# L = [11, 12, 13, 14]\n",
        "# del L\n"
      ]
    },
    {
      "cell_type": "code",
      "source": [
        "#Q2\n",
        "#D= {1:5.6, 2:7.8, 3:6.6, 4:8.7, 5:7.7}\n",
        "\n",
        "##(i)\n",
        "# D[8] = 2.3\n",
        "# print(D)\n",
        "\n",
        "##(ii)\n",
        "# del (D[2])\n",
        "# print(D)\n",
        "\n",
        "##(iii)\n",
        "# flag = False;\n",
        "# if 6 in D:\n",
        "#   flag = True\n",
        "# print(flag)\n",
        "\n",
        "##(iv)\n",
        "# n = len(D)\n",
        "# print(\"Length of Dictionary is-->\",n)\n",
        "\n",
        "##(v)\n",
        "# s = 0\n",
        "# for k in D:\n",
        "#   s = s + D[k]\n",
        "# print(s)\n",
        "\n",
        "##(vi)\n",
        "# D[3] = 7.1\n",
        "# print(D)\n",
        "\n",
        "##(vii)\n",
        "# D.clear()\n",
        "# print(D)\n"
      ],
      "metadata": {
        "colab": {
          "base_uri": "https://localhost:8080/"
        },
        "id": "SnA9G2mIvQgd",
        "outputId": "66a66175-af52-4e64-a0c8-b15607f4109c"
      },
      "execution_count": null,
      "outputs": [
        {
          "output_type": "stream",
          "name": "stdout",
          "text": [
            "{}\n"
          ]
        }
      ]
    },
    {
      "cell_type": "code",
      "source": [
        "#Q3\n",
        "S1 = set([10,20,30,40,50,60,60])\n",
        "S2 = set([40,50,60,70,80,90])\n",
        "\n",
        "##(i)\n",
        "# S1.add(55)\n",
        "# S1.add(66)\n",
        "# print(S1)\n",
        "\n",
        "##(ii)\n",
        "# S1.remove(10)\n",
        "# S1.remove(30)\n",
        "# print(S1)\n",
        "\n",
        "##(iii)\n",
        "# flag = False;\n",
        "# if(40 in S1):\n",
        "#   flag = True\n",
        "# print(flag)\n",
        "\n",
        "##(iv)\n",
        "# print(S1.union(S2))\n",
        "\n",
        "##(v)\n",
        "# print(S1.intersection(S2))\n",
        "\n",
        "##(vi)\n",
        "# print(S1 - S2)"
      ],
      "metadata": {
        "id": "PNWTh_cOx6cM",
        "colab": {
          "base_uri": "https://localhost:8080/"
        },
        "outputId": "cc2c90d0-34a1-4719-c253-46652255c599"
      },
      "execution_count": null,
      "outputs": [
        {
          "output_type": "stream",
          "name": "stdout",
          "text": [
            "{10, 20, 30}\n"
          ]
        }
      ]
    },
    {
      "cell_type": "code",
      "source": [
        "#Q4\n",
        "# import random as r\n",
        "# import string as s\n",
        "##(i)\n",
        "# k = s.ascii_letters\n",
        "# for i in range(1,100):\n",
        "#   m = r.randint(6,8)\n",
        "#   print('*'.join(r.sample(k,m)))\n",
        "\n",
        "##(ii)\n",
        "# for num in range(601,800):\n",
        "#     if num > 1:\n",
        "#         is_prime = True\n",
        "#         for i in range(2, num):\n",
        "#             if num % i == 0:\n",
        "#                 is_prime = False\n",
        "#                 break\n",
        "#         if is_prime:\n",
        "#             print(num)\n",
        "\n",
        "##(iii)\n",
        "# for i in range(101,1000):\n",
        "#   if i%7 == 0 and i%9 == 0:\n",
        "#     print(i)"
      ],
      "metadata": {
        "colab": {
          "base_uri": "https://localhost:8080/"
        },
        "id": "8uLrRWa801Yq",
        "outputId": "163cc30e-755d-480f-bab8-08a9535e346e"
      },
      "execution_count": null,
      "outputs": [
        {
          "output_type": "stream",
          "name": "stdout",
          "text": [
            "126\n",
            "189\n",
            "252\n",
            "315\n",
            "378\n",
            "441\n",
            "504\n",
            "567\n",
            "630\n",
            "693\n",
            "756\n",
            "819\n",
            "882\n",
            "945\n"
          ]
        }
      ]
    },
    {
      "cell_type": "code",
      "source": [
        "#Q5\n",
        "import random as r\n",
        "import string as s\n",
        "\n",
        "#(i)\n",
        "\n",
        "# L1 = [r.randint(10,30) for _ in range(10)]\n",
        "# L2 = [r.randint(10,30) for _ in range(10)]\n",
        "\n",
        "# print(L1)\n",
        "# print(L2)\n",
        "\n",
        "# #(ii)\n",
        "# q1 = set(L1)\n",
        "# q2 = set(L2)\n",
        "# a = q1.intersection(q2)\n",
        "# print(a)\n",
        "\n",
        "# #(iii)\n",
        "# print(q1)\n",
        "# print(q2)\n",
        "\n",
        "# ##(iv)\n",
        "# maxi1 = max(q1)\n",
        "# maxi2 = max(q2)\n",
        "# print(maxi1)\n",
        "# print(maxi2)\n",
        "\n",
        "# ##(v)\n",
        "# mini1 = min(q1)\n",
        "# mini2 = min(q2)\n",
        "# print(mini1)\n",
        "# print(mini2)\n",
        "\n",
        "# ##(vi)\n",
        "# print(sum(L1))\n",
        "# print(sum(L2))"
      ],
      "metadata": {
        "colab": {
          "base_uri": "https://localhost:8080/"
        },
        "id": "1Y-PlHlN43Rf",
        "outputId": "53c9959c-5756-47ec-e831-90fa7444a3c3"
      },
      "execution_count": null,
      "outputs": [
        {
          "output_type": "stream",
          "name": "stdout",
          "text": [
            "[15, 13, 18, 23, 26, 24, 25, 28, 23, 10]\n",
            "[26, 28, 25, 14, 29, 17, 13, 29, 12, 18]\n",
            "{13, 18, 25, 26, 28}\n",
            "{10, 13, 15, 18, 23, 24, 25, 26, 28}\n",
            "{12, 13, 14, 17, 18, 25, 26, 28, 29}\n",
            "28\n",
            "29\n",
            "10\n",
            "12\n",
            "205\n",
            "211\n"
          ]
        }
      ]
    },
    {
      "cell_type": "code",
      "source": [
        "##Q6\n",
        "L = [r.randint(101,900) for _ in range(100)]\n",
        "\n",
        "# cnt1 = 0\n",
        "# for i in range(100):\n",
        "#   if(L[i]%2 != 0):\n",
        "#     print(L[i])\n",
        "#     cnt1 = cnt1 + 1\n",
        "# print(cnt1)\n",
        "\n",
        "# cnt2 = 0\n",
        "# for i in range(100):\n",
        "#   if(L[i]%2 == 0):\n",
        "#     print(L[i])\n",
        "#     cnt2 = cnt2 + 1\n",
        "# print(cnt2)"
      ],
      "metadata": {
        "colab": {
          "base_uri": "https://localhost:8080/"
        },
        "id": "2Ao39XIN9hu-",
        "outputId": "f76787af-077b-4d86-e4b4-b3e3bf3fb804"
      },
      "execution_count": null,
      "outputs": [
        {
          "output_type": "stream",
          "name": "stdout",
          "text": [
            "162\n",
            "472\n",
            "276\n",
            "688\n",
            "628\n",
            "496\n",
            "876\n",
            "196\n",
            "130\n",
            "492\n",
            "488\n",
            "558\n",
            "622\n",
            "304\n",
            "102\n",
            "630\n",
            "496\n",
            "564\n",
            "696\n",
            "812\n",
            "774\n",
            "828\n",
            "732\n",
            "286\n",
            "538\n",
            "572\n",
            "876\n",
            "522\n",
            "196\n",
            "698\n",
            "798\n",
            "418\n",
            "788\n",
            "282\n",
            "270\n",
            "538\n",
            "306\n",
            "838\n",
            "484\n",
            "534\n",
            "320\n",
            "408\n",
            "780\n",
            "156\n",
            "480\n",
            "556\n",
            "428\n",
            "842\n",
            "700\n",
            "49\n"
          ]
        }
      ]
    },
    {
      "cell_type": "code",
      "source": [
        "##Q7\n",
        "D = {1:\"One\",2:\"Two\",3:\"Three\",4:\"Four\",5:\"Five\"}\n",
        "\n",
        "with open(\"output.txt\",\"w\") as file:\n",
        "  for key,value in D.items():\n",
        "    file.write(str(key) + \" \" + value + \"\\n\")\n",
        "\n",
        "with open(\"output.txt\",\"r\") as file:\n",
        "  print(file.read())"
      ],
      "metadata": {
        "id": "8KwaX1os_Gsz",
        "colab": {
          "base_uri": "https://localhost:8080/"
        },
        "outputId": "868b5f41-3d6a-4a63-d651-93ac7de1d466"
      },
      "execution_count": null,
      "outputs": [
        {
          "output_type": "stream",
          "name": "stdout",
          "text": [
            "1 One\n",
            "2 Two\n",
            "3 Three\n",
            "4 Four\n",
            "5 Five\n",
            "\n"
          ]
        }
      ]
    },
    {
      "cell_type": "code",
      "source": [
        "#Q8\n",
        "L  = [\"One\",\"Two\",\"Three\",\"Four\",\"Five\"]\n",
        "n = len(L)\n",
        "with open(\"length.txt\",\"w\") as file:\n",
        "  for i in range(0,n):\n",
        "    file.write(L[i] + \" \" + str(len(L[i])) + \"\\n\")\n",
        "\n",
        "with open(\"length.txt\",\"r\") as file:\n",
        "  print(file.read())\n"
      ],
      "metadata": {
        "colab": {
          "base_uri": "https://localhost:8080/"
        },
        "id": "tBAF77ev1HRr",
        "outputId": "975877f9-09b0-4e69-ab73-5f5c6e2f2c54"
      },
      "execution_count": null,
      "outputs": [
        {
          "output_type": "stream",
          "name": "stdout",
          "text": [
            "One 3\n",
            "Two 3\n",
            "Three 5\n",
            "Four 4\n",
            "Five 4\n",
            "\n"
          ]
        }
      ]
    },
    {
      "cell_type": "code",
      "source": [
        "#Q9\n",
        "import random as r\n",
        "import string as s\n",
        "\n",
        "k = s.ascii_letters\n",
        "with open(\"random.txt\",\"w\") as file:\n",
        "\n",
        "  for i in range(0,100):\n",
        "    m = r.randint(10,15)\n",
        "    x = r.sample(k,m)\n",
        "    f = ''.join(x)\n",
        "    file.write(f + \"\\n\")\n",
        "\n",
        "with open(\"random.txt\",\"r\") as file:\n",
        "  print(file.read())\n"
      ],
      "metadata": {
        "colab": {
          "base_uri": "https://localhost:8080/"
        },
        "id": "4gojWEzr1HOj",
        "outputId": "33642438-71ea-4e14-b399-784a0dc74a86"
      },
      "execution_count": null,
      "outputs": [
        {
          "output_type": "stream",
          "name": "stdout",
          "text": [
            "TMDcUnRaEPiJGx\n",
            "cXbIlVPOdBeGsp\n",
            "UmFbzSnLvNwgpa\n",
            "dyQxpFNvkhRKYwP\n",
            "MjgClKpGSkO\n",
            "KURoLTDZCpjaXue\n",
            "ysRpthrIWno\n",
            "DszhdvxiBZYu\n",
            "jYhUHXTVyaKzdBR\n",
            "jeEBVopyUNt\n",
            "GmZEkQMSPFlBbT\n",
            "MzDkrpwKZxXROTj\n",
            "mVTxRwrQqZodj\n",
            "PNWgMsOVTB\n",
            "SmOMHEoqXhlJ\n",
            "uNZKURFAPpqrIY\n",
            "ghnuDoqAbOpCM\n",
            "UFPBMCWAvf\n",
            "iHRvyIYKZzFEho\n",
            "JRlYXuiEIkyZx\n",
            "DBYXjweiQbK\n",
            "CiTrPWLojEznBuN\n",
            "CvcEdznyTgRZPpA\n",
            "ESJgwmxADKaFQ\n",
            "AGcnFVfutKdh\n",
            "VgKkltozCbuMeRy\n",
            "hgaWZSXuMoCmiw\n",
            "arCiKjdzeJEc\n",
            "wcqSoCsIzT\n",
            "vPAzVNsQBIrgtH\n",
            "vnIaLzeVwZgU\n",
            "KwdvRrXDghmqx\n",
            "QcLMSRCKTulX\n",
            "xLsuKTQnRoFaJ\n",
            "hjPWyuxwTmS\n",
            "SAlhBDZJPgdXj\n",
            "ihrJglWUKxoy\n",
            "vwIoadmJnFUrbAi\n",
            "OzYLbWDcTh\n",
            "XdVuyfBtahnxGj\n",
            "WsayjhIYnUzoK\n",
            "ibNOEHRMXaLzD\n",
            "FaWSxBITGRCso\n",
            "TgZWVMBclxo\n",
            "FkaQfLvPeE\n",
            "NbIcThBUZSQo\n",
            "UCgbmKTthJf\n",
            "kljiTnPxqRbAZM\n",
            "DHbgoaZiquhML\n",
            "kBoMsWOHmpdAiPC\n",
            "nPTREIOsNBdAvC\n",
            "tcruHdkeoTjV\n",
            "BIVrRnPfScNKeu\n",
            "piEWBJuxwc\n",
            "tMIOgPlenz\n",
            "gJjucNqDmI\n",
            "XTFsMZtuzY\n",
            "VrGeiguQaCkwtqM\n",
            "bNyBJSeiQHUqjCp\n",
            "dCZnxgKemsUBlz\n",
            "BXLZjgidmDQoM\n",
            "SKgQZMrNGixj\n",
            "uHRELMnjgGV\n",
            "OqoESnKwdhAVuse\n",
            "OAGWYjaZqSbRMPs\n",
            "iocfYjFHqaE\n",
            "zFlUKuGBvQTI\n",
            "EwQtveZODNfiH\n",
            "TXlrzcvxNsy\n",
            "fxSlgWDcAHOd\n",
            "bHJIdcZhEzrt\n",
            "XVSpymsGgMcuiot\n",
            "SlJFYEOgGXUm\n",
            "puoFvOzwnGV\n",
            "IRcrjaWVhGYsK\n",
            "TsKguMjACma\n",
            "oDJRUlcGsvqaB\n",
            "unwTUbrIyqEDfY\n",
            "BZHiSQFCtxlWoJ\n",
            "SpMiHheGxWzYCQ\n",
            "sjbCyUMeclRi\n",
            "JxHMaiEekOZog\n",
            "kIQBmyZJbf\n",
            "YPRoWJagjNXUFLn\n",
            "IGjVBhfnFxOS\n",
            "zAxjKbNlckXEGon\n",
            "YiNWQxmJKk\n",
            "TkFasbKDxWGBPp\n",
            "mpuXIkJfoBRqUQ\n",
            "hGNzDkYtgn\n",
            "rgAacBXYLKFIb\n",
            "DGWonTtYNMBI\n",
            "DNIMYWaVlvFwgz\n",
            "qGWxBbkswR\n",
            "KoFWUIvgDBQEpHG\n",
            "LIWDGwphRjfct\n",
            "IsYTLFVoAZX\n",
            "ofNpvibdxEAGmZB\n",
            "iOtQCRfEBewuh\n",
            "aYpiwcuPDWnZ\n",
            "\n"
          ]
        }
      ]
    },
    {
      "cell_type": "code",
      "source": [
        "##Q10\n",
        "with open(\"prime.txt\", \"w\") as file:\n",
        "    for num in range(601, 800):\n",
        "        if num > 1:\n",
        "            is_prime = True\n",
        "            for i in range(2, num):\n",
        "                if num % i == 0:\n",
        "                    is_prime = False\n",
        "                    break\n",
        "            if is_prime:\n",
        "                file.write(str(num) + \"\\n\")\n",
        "\n",
        "with open(\"prime.txt\", \"r\") as file:\n",
        "    print(file.read())\n"
      ],
      "metadata": {
        "colab": {
          "base_uri": "https://localhost:8080/"
        },
        "id": "GbUE0yeu1HAE",
        "outputId": "6aa8ad49-b835-4972-d26e-d62a7da91af3"
      },
      "execution_count": null,
      "outputs": [
        {
          "output_type": "stream",
          "name": "stdout",
          "text": [
            "601\n",
            "607\n",
            "613\n",
            "617\n",
            "619\n",
            "631\n",
            "641\n",
            "643\n",
            "647\n",
            "653\n",
            "659\n",
            "661\n",
            "673\n",
            "677\n",
            "683\n",
            "691\n",
            "701\n",
            "709\n",
            "719\n",
            "727\n",
            "733\n",
            "739\n",
            "743\n",
            "751\n",
            "757\n",
            "761\n",
            "769\n",
            "773\n",
            "787\n",
            "797\n",
            "\n"
          ]
        }
      ]
    },
    {
      "cell_type": "code",
      "source": [
        "##Q11\n",
        "import time\n",
        "\n",
        "\n",
        "t1 = time.time()\n",
        "\n",
        "even_numbers = []\n",
        "\n",
        "\n",
        "for num in range(50, 151):\n",
        "    if num % 2 == 0:\n",
        "        even_numbers.append(num)\n",
        "\n",
        "\n",
        "t2 = time.time()\n",
        "print(\"Even numbers from 50 to 150:\", even_numbers)\n",
        "print(\"Time taken by the program:\", t2 - t1, \"seconds\")\n"
      ],
      "metadata": {
        "colab": {
          "base_uri": "https://localhost:8080/"
        },
        "id": "5Tns6AGs4unW",
        "outputId": "ecb7a865-7da9-4fa4-8b19-066019d65e92"
      },
      "execution_count": null,
      "outputs": [
        {
          "output_type": "stream",
          "name": "stdout",
          "text": [
            "Even numbers from 50 to 150: [50, 52, 54, 56, 58, 60, 62, 64, 66, 68, 70, 72, 74, 76, 78, 80, 82, 84, 86, 88, 90, 92, 94, 96, 98, 100, 102, 104, 106, 108, 110, 112, 114, 116, 118, 120, 122, 124, 126, 128, 130, 132, 134, 136, 138, 140, 142, 144, 146, 148, 150]\n",
            "Time taken by the program: 0.0002677440643310547 seconds\n"
          ]
        }
      ]
    },
    {
      "cell_type": "code",
      "source": [
        "##Q12\n",
        "import random as r\n",
        "import time as t\n",
        "import matplotlib.pyplot as plt\n",
        "\n",
        "list_sizes = [5000,10000,15000,20000,25000]\n",
        "times = []\n",
        "\n",
        "for size in list_sizes:\n",
        "  start_time = t.time()\n",
        "  data = [r.randint(1,1000) for _ in range(size)]\n",
        "  start_time = t.time()\n",
        "  data.sort()\n",
        "  end_time = t.time()\n",
        "  time_taken = end_time - start_time\n",
        "  times.append(time_taken)\n",
        "\n",
        "plt.figure(figsize=(10, 6))\n",
        "plt.plot(list_sizes, times, marker='o', linestyle='-', color='blue')\n",
        "plt.title('Sorting Time vs Number of Elements')\n",
        "plt.xlabel('Number of Elements')\n",
        "plt.ylabel('Time Taken (seconds)')\n",
        "plt.grid(True)\n",
        "plt.show()"
      ],
      "metadata": {
        "id": "uZiSUr8E4ug1",
        "colab": {
          "base_uri": "https://localhost:8080/",
          "height": 421
        },
        "outputId": "0f867f57-28f7-4a82-b839-0e2360e330ae"
      },
      "execution_count": null,
      "outputs": [
        {
          "output_type": "display_data",
          "data": {
            "text/plain": [
              "<Figure size 1000x600 with 1 Axes>"
            ],
            "image/png": "[encoded data removed]"
          },
          "metadata": {}
        }
      ]
    },
    {
      "cell_type": "code",
      "source": [
        "##Q13\n",
        "students = {\n",
        "    \"Suresh\": [85,78,92,88,76],\n",
        "    \"Raj\": [65,70,72,60,68],\n",
        "    \"Reema\": [95, 90, 93, 97, 91],\n",
        "    \"Qwerty\": [55, 60, 58, 62, 57],\n",
        "    \"Akhil\" :  [88, 84, 82, 86, 90]\n",
        "}\n",
        "\n",
        "averages = {}\n",
        "\n",
        "for name,marks in students.items():\n",
        "  avg = sum(marks)/len(marks)\n",
        "  averages[name] = avg\n",
        "\n",
        "max_student = max(averages, key=averages.get)\n",
        "min_student = min(averages, key=averages.get)\n",
        "\n",
        "print(\"Student with maximum average marks:\", max_student, \"->\", averages[max_student])\n",
        "print(\"Student with minimum average marks:\", min_student, \"->\", averages[min_student])\n"
      ],
      "metadata": {
        "colab": {
          "base_uri": "https://localhost:8080/"
        },
        "id": "YRd8vDPJ4ua-",
        "outputId": "a6e1c0f9-7054-46d6-fa0d-08fbb4faebd2"
      },
      "execution_count": null,
      "outputs": [
        {
          "output_type": "stream",
          "name": "stdout",
          "text": [
            "Student with maximum average marks: Reema -> 93.2\n",
            "Student with minimum average marks: Qwerty -> 58.4\n"
          ]
        }
      ]
    },
    {
      "cell_type": "code",
      "source": [],
      "metadata": {
        "id": "0fdxXEWd8DNJ"
      },
      "execution_count": null,
      "outputs": []
    }
  ]
}